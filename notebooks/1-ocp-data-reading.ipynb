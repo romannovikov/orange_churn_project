{
 "cells": [
  {
   "cell_type": "markdown",
   "metadata": {
    "id": "4-G9le9H3xeq"
   },
   "source": [
    "# Чтение данных"
   ]
  },
  {
   "cell_type": "code",
   "execution_count": 1,
   "metadata": {
    "executionInfo": {
     "elapsed": 778,
     "status": "ok",
     "timestamp": 1602660795267,
     "user": {
      "displayName": "Роман Новиков",
      "photoUrl": "",
      "userId": "07621929889132879410"
     },
     "user_tz": -180
    },
    "id": "ZQ8Crc6Btd0s"
   },
   "outputs": [],
   "source": [
    "import os\n",
    "import sys\n",
    "import warnings; warnings.filterwarnings(action='ignore')\n",
    "\n",
    "import numpy as np\n",
    "import pandas as pd"
   ]
  },
  {
   "cell_type": "code",
   "execution_count": 2,
   "metadata": {
    "id": "jfpN7puV-bu0"
   },
   "outputs": [],
   "source": [
    "# добавляем в sys.path директорию со скриптами\n",
    "src_dir = os.path.join(os.getcwd(), '..', 'ocp')\n",
    "sys.path.append(src_dir)"
   ]
  },
  {
   "cell_type": "code",
   "execution_count": 3,
   "metadata": {
    "colab": {
     "base_uri": "https://localhost:8080/",
     "height": 51
    },
    "executionInfo": {
     "elapsed": 1288,
     "status": "ok",
     "timestamp": 1602340026135,
     "user": {
      "displayName": "Роман Новиков",
      "photoUrl": "https://lh5.googleusercontent.com/-49FN6_YzdHQ/AAAAAAAAAAI/AAAAAAAAAC4/fOYzKlKwLu4/s64/photo.jpg",
      "userId": "04346782864121885769"
     },
     "user_tz": -180
    },
    "id": "G-bv_Vk5355m",
    "outputId": "a2bd71b8-6c53-4389-e9d5-c85063163502"
   },
   "outputs": [],
   "source": [
    "# загружаем необходимые скрипты\n",
    "from data.loading import load_raw_data\n",
    "\n",
    "%load_ext autoreload\n",
    "%autoreload"
   ]
  },
  {
   "cell_type": "code",
   "execution_count": 4,
   "metadata": {
    "id": "vtIvWUIWqSxO"
   },
   "outputs": [],
   "source": [
    "# загружаем данные\n",
    "train, test, numerical, categorical = load_raw_data('../data/raw')"
   ]
  },
  {
   "cell_type": "code",
   "execution_count": 5,
   "metadata": {
    "colab": {
     "base_uri": "https://localhost:8080/",
     "height": 102
    },
    "executionInfo": {
     "elapsed": 2961,
     "status": "ok",
     "timestamp": 1602340027863,
     "user": {
      "displayName": "Роман Новиков",
      "photoUrl": "https://lh5.googleusercontent.com/-49FN6_YzdHQ/AAAAAAAAAAI/AAAAAAAAAC4/fOYzKlKwLu4/s64/photo.jpg",
      "userId": "04346782864121885769"
     },
     "user_tz": -180
    },
    "id": "bYwGfDS7rZUV",
    "outputId": "372504d5-61d1-4fec-e19d-f0fa144faad4"
   },
   "outputs": [
    {
     "name": "stdout",
     "output_type": "stream",
     "text": [
      "<class 'pandas.core.frame.DataFrame'>\n",
      "RangeIndex: 40000 entries, 0 to 39999\n",
      "Columns: 231 entries, Var1 to target\n",
      "dtypes: float64(191), int64(2), object(38)\n",
      "memory usage: 70.5+ MB\n"
     ]
    }
   ],
   "source": [
    "train.info()"
   ]
  },
  {
   "cell_type": "code",
   "execution_count": 6,
   "metadata": {
    "colab": {
     "base_uri": "https://localhost:8080/",
     "height": 102
    },
    "executionInfo": {
     "elapsed": 2944,
     "status": "ok",
     "timestamp": 1602340027865,
     "user": {
      "displayName": "Роман Новиков",
      "photoUrl": "https://lh5.googleusercontent.com/-49FN6_YzdHQ/AAAAAAAAAAI/AAAAAAAAAC4/fOYzKlKwLu4/s64/photo.jpg",
      "userId": "04346782864121885769"
     },
     "user_tz": -180
    },
    "id": "lT__0GZf4NJ3",
    "outputId": "1fd08f49-21fe-4730-dae4-3dc0127b5e66"
   },
   "outputs": [
    {
     "name": "stdout",
     "output_type": "stream",
     "text": [
      "<class 'pandas.core.frame.DataFrame'>\n",
      "Int64Index: 10000 entries, 0 to 9999\n",
      "Columns: 230 entries, Var1 to Var230\n",
      "dtypes: float64(191), int64(1), object(38)\n",
      "memory usage: 17.6+ MB\n"
     ]
    }
   ],
   "source": [
    "test.info()"
   ]
  },
  {
   "cell_type": "code",
   "execution_count": 7,
   "metadata": {
    "colab": {
     "base_uri": "https://localhost:8080/",
     "height": 85
    },
    "executionInfo": {
     "elapsed": 2921,
     "status": "ok",
     "timestamp": 1602340027867,
     "user": {
      "displayName": "Роман Новиков",
      "photoUrl": "https://lh5.googleusercontent.com/-49FN6_YzdHQ/AAAAAAAAAAI/AAAAAAAAAC4/fOYzKlKwLu4/s64/photo.jpg",
      "userId": "04346782864121885769"
     },
     "user_tz": -180
    },
    "id": "Mn1Wgxgb4Q0w",
    "outputId": "8eaefc3e-8fa5-4a79-d0af-c1d4b226e9b8",
    "scrolled": true
   },
   "outputs": [
    {
     "data": {
      "text/plain": [
       "-1    37024\n",
       " 1     2976\n",
       "Name: target, dtype: int64"
      ]
     },
     "execution_count": 7,
     "metadata": {},
     "output_type": "execute_result"
    }
   ],
   "source": [
    "train.target.value_counts()"
   ]
  },
  {
   "cell_type": "code",
   "execution_count": 8,
   "metadata": {
    "colab": {
     "base_uri": "https://localhost:8080/",
     "height": 1000
    },
    "executionInfo": {
     "elapsed": 2898,
     "status": "ok",
     "timestamp": 1602340027869,
     "user": {
      "displayName": "Роман Новиков",
      "photoUrl": "https://lh5.googleusercontent.com/-49FN6_YzdHQ/AAAAAAAAAAI/AAAAAAAAAC4/fOYzKlKwLu4/s64/photo.jpg",
      "userId": "04346782864121885769"
     },
     "user_tz": -180
    },
    "id": "QUB600dO4SWQ",
    "outputId": "94a0a3c5-02c5-48d0-a489-183f543201d9"
   },
   "outputs": [
    {
     "data": {
      "text/plain": [
       "['Var1',\n",
       " 'Var2',\n",
       " 'Var3',\n",
       " 'Var4',\n",
       " 'Var5',\n",
       " 'Var6',\n",
       " 'Var7',\n",
       " 'Var8',\n",
       " 'Var9',\n",
       " 'Var10',\n",
       " 'Var11',\n",
       " 'Var12',\n",
       " 'Var13',\n",
       " 'Var14',\n",
       " 'Var15',\n",
       " 'Var16',\n",
       " 'Var17',\n",
       " 'Var18',\n",
       " 'Var19',\n",
       " 'Var20',\n",
       " 'Var21',\n",
       " 'Var22',\n",
       " 'Var23',\n",
       " 'Var24',\n",
       " 'Var25',\n",
       " 'Var26',\n",
       " 'Var27',\n",
       " 'Var28',\n",
       " 'Var29',\n",
       " 'Var30',\n",
       " 'Var31',\n",
       " 'Var32',\n",
       " 'Var33',\n",
       " 'Var34',\n",
       " 'Var35',\n",
       " 'Var36',\n",
       " 'Var37',\n",
       " 'Var38',\n",
       " 'Var39',\n",
       " 'Var40',\n",
       " 'Var41',\n",
       " 'Var42',\n",
       " 'Var43',\n",
       " 'Var44',\n",
       " 'Var45',\n",
       " 'Var46',\n",
       " 'Var47',\n",
       " 'Var48',\n",
       " 'Var49',\n",
       " 'Var50',\n",
       " 'Var51',\n",
       " 'Var52',\n",
       " 'Var53',\n",
       " 'Var54',\n",
       " 'Var55',\n",
       " 'Var56',\n",
       " 'Var57',\n",
       " 'Var58',\n",
       " 'Var59',\n",
       " 'Var60',\n",
       " 'Var61',\n",
       " 'Var62',\n",
       " 'Var63',\n",
       " 'Var64',\n",
       " 'Var65',\n",
       " 'Var66',\n",
       " 'Var67',\n",
       " 'Var68',\n",
       " 'Var69',\n",
       " 'Var70',\n",
       " 'Var71',\n",
       " 'Var72',\n",
       " 'Var73',\n",
       " 'Var74',\n",
       " 'Var75',\n",
       " 'Var76',\n",
       " 'Var77',\n",
       " 'Var78',\n",
       " 'Var79',\n",
       " 'Var80',\n",
       " 'Var81',\n",
       " 'Var82',\n",
       " 'Var83',\n",
       " 'Var84',\n",
       " 'Var85',\n",
       " 'Var86',\n",
       " 'Var87',\n",
       " 'Var88',\n",
       " 'Var89',\n",
       " 'Var90',\n",
       " 'Var91',\n",
       " 'Var92',\n",
       " 'Var93',\n",
       " 'Var94',\n",
       " 'Var95',\n",
       " 'Var96',\n",
       " 'Var97',\n",
       " 'Var98',\n",
       " 'Var99',\n",
       " 'Var100',\n",
       " 'Var101',\n",
       " 'Var102',\n",
       " 'Var103',\n",
       " 'Var104',\n",
       " 'Var105',\n",
       " 'Var106',\n",
       " 'Var107',\n",
       " 'Var108',\n",
       " 'Var109',\n",
       " 'Var110',\n",
       " 'Var111',\n",
       " 'Var112',\n",
       " 'Var113',\n",
       " 'Var114',\n",
       " 'Var115',\n",
       " 'Var116',\n",
       " 'Var117',\n",
       " 'Var118',\n",
       " 'Var119',\n",
       " 'Var120',\n",
       " 'Var121',\n",
       " 'Var122',\n",
       " 'Var123',\n",
       " 'Var124',\n",
       " 'Var125',\n",
       " 'Var126',\n",
       " 'Var127',\n",
       " 'Var128',\n",
       " 'Var129',\n",
       " 'Var130',\n",
       " 'Var131',\n",
       " 'Var132',\n",
       " 'Var133',\n",
       " 'Var134',\n",
       " 'Var135',\n",
       " 'Var136',\n",
       " 'Var137',\n",
       " 'Var138',\n",
       " 'Var139',\n",
       " 'Var140',\n",
       " 'Var141',\n",
       " 'Var142',\n",
       " 'Var143',\n",
       " 'Var144',\n",
       " 'Var145',\n",
       " 'Var146',\n",
       " 'Var147',\n",
       " 'Var148',\n",
       " 'Var149',\n",
       " 'Var150',\n",
       " 'Var151',\n",
       " 'Var152',\n",
       " 'Var153',\n",
       " 'Var154',\n",
       " 'Var155',\n",
       " 'Var156',\n",
       " 'Var157',\n",
       " 'Var158',\n",
       " 'Var159',\n",
       " 'Var160',\n",
       " 'Var161',\n",
       " 'Var162',\n",
       " 'Var163',\n",
       " 'Var164',\n",
       " 'Var165',\n",
       " 'Var166',\n",
       " 'Var167',\n",
       " 'Var168',\n",
       " 'Var169',\n",
       " 'Var170',\n",
       " 'Var171',\n",
       " 'Var172',\n",
       " 'Var173',\n",
       " 'Var174',\n",
       " 'Var175',\n",
       " 'Var176',\n",
       " 'Var177',\n",
       " 'Var178',\n",
       " 'Var179',\n",
       " 'Var180',\n",
       " 'Var181',\n",
       " 'Var182',\n",
       " 'Var183',\n",
       " 'Var184',\n",
       " 'Var185',\n",
       " 'Var186',\n",
       " 'Var187',\n",
       " 'Var188',\n",
       " 'Var189',\n",
       " 'Var190']"
      ]
     },
     "execution_count": 8,
     "metadata": {},
     "output_type": "execute_result"
    }
   ],
   "source": [
    "numerical"
   ]
  },
  {
   "cell_type": "code",
   "execution_count": 9,
   "metadata": {
    "colab": {
     "base_uri": "https://localhost:8080/",
     "height": 697
    },
    "executionInfo": {
     "elapsed": 2882,
     "status": "ok",
     "timestamp": 1602340027870,
     "user": {
      "displayName": "Роман Новиков",
      "photoUrl": "https://lh5.googleusercontent.com/-49FN6_YzdHQ/AAAAAAAAAAI/AAAAAAAAAC4/fOYzKlKwLu4/s64/photo.jpg",
      "userId": "04346782864121885769"
     },
     "user_tz": -180
    },
    "id": "djDc-3Db4TfH",
    "outputId": "671d2acc-0bdb-41d3-9e29-fa7cf4e2d88f"
   },
   "outputs": [
    {
     "data": {
      "text/plain": [
       "['Var191',\n",
       " 'Var192',\n",
       " 'Var193',\n",
       " 'Var194',\n",
       " 'Var195',\n",
       " 'Var196',\n",
       " 'Var197',\n",
       " 'Var198',\n",
       " 'Var199',\n",
       " 'Var200',\n",
       " 'Var201',\n",
       " 'Var202',\n",
       " 'Var203',\n",
       " 'Var204',\n",
       " 'Var205',\n",
       " 'Var206',\n",
       " 'Var207',\n",
       " 'Var208',\n",
       " 'Var209',\n",
       " 'Var210',\n",
       " 'Var211',\n",
       " 'Var212',\n",
       " 'Var213',\n",
       " 'Var214',\n",
       " 'Var215',\n",
       " 'Var216',\n",
       " 'Var217',\n",
       " 'Var218',\n",
       " 'Var219',\n",
       " 'Var220',\n",
       " 'Var221',\n",
       " 'Var222',\n",
       " 'Var223',\n",
       " 'Var224',\n",
       " 'Var225',\n",
       " 'Var226',\n",
       " 'Var227',\n",
       " 'Var228',\n",
       " 'Var229',\n",
       " 'Var230']"
      ]
     },
     "execution_count": 9,
     "metadata": {},
     "output_type": "execute_result"
    }
   ],
   "source": [
    "categorical"
   ]
  }
 ],
 "metadata": {
  "colab": {
   "collapsed_sections": [],
   "name": "1 ocp-data-reading.ipynb",
   "provenance": []
  },
  "kernelspec": {
   "display_name": "Python 3",
   "language": "python",
   "name": "python3"
  },
  "language_info": {
   "codemirror_mode": {
    "name": "ipython",
    "version": 3
   },
   "file_extension": ".py",
   "mimetype": "text/x-python",
   "name": "python",
   "nbconvert_exporter": "python",
   "pygments_lexer": "ipython3",
   "version": "3.8.5"
  }
 },
 "nbformat": 4,
 "nbformat_minor": 1
}