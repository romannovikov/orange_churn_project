{
 "cells": [
  {
   "cell_type": "code",
   "execution_count": 1,
   "metadata": {
    "id": "ZQ8Crc6Btd0s"
   },
   "outputs": [],
   "source": [
    "import os\n",
    "import sys\n",
    "import warnings; warnings.filterwarnings(action='ignore')\n",
    "\n",
    "import numpy as np\n",
    "import pandas as pd"
   ]
  },
  {
   "cell_type": "code",
   "execution_count": 2,
   "metadata": {
    "id": "jfpN7puV-bu0"
   },
   "outputs": [],
   "source": [
    "# добавляем в sys.path директорию со скриптами\n",
    "src_dir = os.path.join(os.getcwd(), '..', 'ocp')\n",
    "sys.path.append(src_dir)"
   ]
  },
  {
   "cell_type": "code",
   "execution_count": 3,
   "metadata": {
    "colab": {
     "base_uri": "https://localhost:8080/",
     "height": 51
    },
    "executionInfo": {
     "elapsed": 1296,
     "status": "ok",
     "timestamp": 1602415830063,
     "user": {
      "displayName": "Роман Новиков",
      "photoUrl": "https://lh5.googleusercontent.com/-49FN6_YzdHQ/AAAAAAAAAAI/AAAAAAAAAC4/fOYzKlKwLu4/s64/photo.jpg",
      "userId": "04346782864121885769"
     },
     "user_tz": -180
    },
    "id": "P5kvTm5Tt1s9",
    "outputId": "011312d1-dfc8-4b55-f308-940ad5f9c6c0"
   },
   "outputs": [],
   "source": [
    "# загружаем необходимые скрипты\n",
    "from data.loading import load_data, load_obj\n",
    "from data.splitting import train_holdout_split\n",
    "from models.prediction import make_prediction\n",
    "\n",
    "%load_ext autoreload\n",
    "%autoreload\n",
    "\n",
    "SEED = 26"
   ]
  },
  {
   "cell_type": "markdown",
   "metadata": {
    "id": "rpP_yNKiLL90"
   },
   "source": [
    "# Загрузка данных"
   ]
  },
  {
   "cell_type": "code",
   "execution_count": 4,
   "metadata": {
    "id": "R2mcWSyNJSL5"
   },
   "outputs": [],
   "source": [
    "train, test, numerical, categorical = load_data('../data/processed')"
   ]
  },
  {
   "cell_type": "code",
   "execution_count": 5,
   "metadata": {
    "id": "gjOdR7t7C2KC"
   },
   "outputs": [],
   "source": [
    "categorical_idxs = [train.columns.get_loc(c) for c in categorical]"
   ]
  },
  {
   "cell_type": "code",
   "execution_count": 6,
   "metadata": {
    "id": "2PdYDzdKJVgw"
   },
   "outputs": [],
   "source": [
    "(X, _, _,\n",
    " y, _, _,\n",
    " _) = train_holdout_split(train, random_state=SEED)"
   ]
  },
  {
   "cell_type": "code",
   "execution_count": 7,
   "metadata": {
    "id": "SIaaVT_cHlbu"
   },
   "outputs": [],
   "source": [
    "models = load_obj('../data/models_dictionary/models_final.pkl')"
   ]
  },
  {
   "cell_type": "code",
   "execution_count": 16,
   "metadata": {},
   "outputs": [],
   "source": [
    "base_models = list(models.keys())\n",
    "base_models.remove('stacking')"
   ]
  },
  {
   "cell_type": "code",
   "execution_count": 17,
   "metadata": {
    "pycharm": {
     "name": "#%%\n"
    }
   },
   "outputs": [
    {
     "data": {
      "text/plain": [
       "['XGBClassifier', 'CatBoostClassifier']"
      ]
     },
     "execution_count": 17,
     "metadata": {},
     "output_type": "execute_result"
    }
   ],
   "source": [
    "base_models"
   ]
  },
  {
   "cell_type": "markdown",
   "metadata": {
    "id": "iKCk3In9iQ22",
    "pycharm": {
     "name": "#%% md\n"
    }
   },
   "source": [
    "# Предсказание"
   ]
  },
  {
   "cell_type": "code",
   "execution_count": null,
   "outputs": [],
   "source": [
    "# делаем предсказание на каждой \n",
    "# из построенных моделей\n",
    "for model in base_models:\n",
    "    pipe = models[model]['pipe']\n",
    "\n",
    "    if model == 'CatBoostClassifier':\n",
    "        # передаем в параметры обучения индексы категориальных переменных\n",
    "        fit_params = {'model__cat_features': categorical_idxs,\n",
    "                      'model__verbose': False}\n",
    "        pipe.fit(X, y, **fit_params);\n",
    "    else:\n",
    "        pipe.fit(X, y)\n",
    "    \n",
    "    # запишем предсказанные вероятности классов под ключом test_probs\n",
    "    # в ветке модели для последующего создания предсказаний для стекинга\n",
    "    probs = pipe.predict_proba(test)\n",
    "    models[model]['test_probs'] = probs\n",
    "\n",
    "    # сохраняем предсказания в csv-файл\n",
    "    submission = pd.DataFrame({\n",
    "        'id': test.index,\n",
    "        'result': probs[:, 1].flatten()\n",
    "    })\n",
    "    \n",
    "    submission.to_csv(f'../data/models_output/submission_{model}.csv', index=False)\n",
    "\n",
    "\n",
    "# создаем предсказания для стекинга с\n",
    "# параметром альфа, вычисленным по отложенной выборке\n",
    "alpha = models['stacking']['alpha']\n",
    "xgb_probs = models['XGBClassifier']['test_probs']\n",
    "cat_probs = models['CatBoostClassifier']['test_probs']\n",
    "stacking_final_probs = alpha*xgb_probs + (1 - alpha)*cat_probs\n",
    "\n",
    "submission = pd.DataFrame({\n",
    "    'id': test.index,\n",
    "    'result': stacking_final_probs[:, 1].flatten()\n",
    "})\n",
    "\n",
    "# сохраняем предсказания в csv-файл\n",
    "submission.to_csv(f'../data/models_output/submission_stacking.csv', index=False)"
   ],
   "metadata": {
    "collapsed": false,
    "pycharm": {
     "name": "#%%\n"
    }
   }
  },
  {
   "cell_type": "code",
   "execution_count": null,
   "metadata": {
    "id": "B1Dszhyt5YFF"
   },
   "outputs": [],
   "source": [
    "# делаем предсказание на каждой \n",
    "# из построенных моделей\n",
    "for model in base_models:\n",
    "    pipe = models[model]['pipe']\n",
    "\n",
    "    if model == 'CatBoostClassifier':\n",
    "        # передаем в параметры обучения индексы категориальных переменных\n",
    "        fit_params = {'model__cat_features': categorical_idxs,\n",
    "                      'model__verbose': False}\n",
    "        pipe.fit(X, y, **fit_params);\n",
    "    else:\n",
    "        pipe.fit(X, y)\n",
    "    \n",
    "    # запишем предсказанные вероятности классов под ключом test_probs\n",
    "    # в ветке модели для последующего создания предсказаний для стекинга\n",
    "    probs = pipe.predict_proba(test)\n",
    "    models[model]['test_probs'] = probs\n",
    "\n",
    "    # сохраняем предсказания в csv-файл\n",
    "    submission = pd.DataFrame({\n",
    "        'id': test.index,\n",
    "        'result': probs[:, 1].flatten()\n",
    "    })\n",
    "    \n",
    "    submission.to_csv(f'../data/models_output/submission_{model}.csv', index=False)\n",
    "\n",
    "\n",
    "# создаем предсказания для стекинга с\n",
    "# параметром альфа, вычисленным по отложенной выборке\n",
    "alpha = models['stacking']['alpha']\n",
    "xgb_probs = models['XGBClassifier']['test_probs']\n",
    "cat_probs = models['CatBoostClassifier']['test_probs']\n",
    "stacking_final_probs = alpha*xgb_probs + (1 - alpha)*cat_probs\n",
    "\n",
    "submission = pd.DataFrame({\n",
    "    'id': test.index,\n",
    "    'result': stacking_final_probs[:, 1].flatten()\n",
    "})\n",
    "\n",
    "# сохраняем предсказания в csv-файл\n",
    "submission.to_csv(f'../data/models_output/submission_stacking.csv', index=False)"
   ]
  }
 ],
 "metadata": {
  "accelerator": "GPU",
  "colab": {
   "authorship_tag": "ABX9TyPSSkza3rrqjCbu4/Sv2JFF",
   "collapsed_sections": [],
   "mount_file_id": "1UpbLQzM3ywldsHKbuVatWTkNYR3AHnOS",
   "name": "7 ocp-prediction.ipynb",
   "provenance": [],
   "toc_visible": true
  },
  "kernelspec": {
   "display_name": "Python 3",
   "language": "python",
   "name": "python3"
  },
  "language_info": {
   "codemirror_mode": {
    "name": "ipython",
    "version": 3
   },
   "file_extension": ".py",
   "mimetype": "text/x-python",
   "name": "python",
   "nbconvert_exporter": "python",
   "pygments_lexer": "ipython3",
   "version": "3.8.5"
  }
 },
 "nbformat": 4,
 "nbformat_minor": 1
}