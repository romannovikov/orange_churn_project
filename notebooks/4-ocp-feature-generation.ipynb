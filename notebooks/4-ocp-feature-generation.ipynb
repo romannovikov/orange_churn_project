{
 "cells": [
  {
   "cell_type": "code",
   "execution_count": 1,
   "metadata": {
    "executionInfo": {
     "elapsed": 13597,
     "status": "ok",
     "timestamp": 1602704150398,
     "user": {
      "displayName": "Роман Новиков",
      "photoUrl": "https://lh5.googleusercontent.com/-49FN6_YzdHQ/AAAAAAAAAAI/AAAAAAAAAC4/fOYzKlKwLu4/s64/photo.jpg",
      "userId": "04346782864121885769"
     },
     "user_tz": -180
    },
    "id": "ZQ8Crc6Btd0s"
   },
   "outputs": [],
   "source": [
    "import os\n",
    "import sys\n",
    "import warnings; warnings.filterwarnings(action='ignore')\n",
    "\n",
    "import numpy as np\n",
    "import pandas as pd\n",
    "\n",
    "%matplotlib inline\n",
    "\n",
    "# feature_importance_\n",
    "from sklearn.model_selection import train_test_split\n",
    "from catboost import CatBoostClassifier"
   ]
  },
  {
   "cell_type": "code",
   "execution_count": 2,
   "metadata": {
    "executionInfo": {
     "elapsed": 15741,
     "status": "ok",
     "timestamp": 1602704152545,
     "user": {
      "displayName": "Роман Новиков",
      "photoUrl": "https://lh5.googleusercontent.com/-49FN6_YzdHQ/AAAAAAAAAAI/AAAAAAAAAC4/fOYzKlKwLu4/s64/photo.jpg",
      "userId": "04346782864121885769"
     },
     "user_tz": -180
    },
    "id": "jfpN7puV-bu0"
   },
   "outputs": [],
   "source": [
    "# добавляем в sys.path директорию со скриптами\n",
    "src_dir = os.path.join(os.getcwd(), '..', 'ocp')\n",
    "sys.path.append(src_dir)"
   ]
  },
  {
   "cell_type": "code",
   "execution_count": 3,
   "metadata": {
    "executionInfo": {
     "elapsed": 7376,
     "status": "ok",
     "timestamp": 1602704159928,
     "user": {
      "displayName": "Роман Новиков",
      "photoUrl": "https://lh5.googleusercontent.com/-49FN6_YzdHQ/AAAAAAAAAAI/AAAAAAAAAC4/fOYzKlKwLu4/s64/photo.jpg",
      "userId": "04346782864121885769"
     },
     "user_tz": -180
    },
    "id": "P5kvTm5Tt1s9"
   },
   "outputs": [],
   "source": [
    "# загружаем необходимые скрипты\n",
    "from data.loading import load_data\n",
    "from features.feature_selection import correct_features_lists\n",
    "from features.feature_engineering import count_row_nans\n",
    "from plotting import plot_barplot\n",
    "\n",
    "%load_ext autoreload\n",
    "%autoreload\n",
    "\n",
    "# задаем константы\n",
    "SEED = 26"
   ]
  },
  {
   "cell_type": "code",
   "execution_count": 5,
   "metadata": {
    "executionInfo": {
     "elapsed": 7647,
     "status": "ok",
     "timestamp": 1602704172563,
     "user": {
      "displayName": "Роман Новиков",
      "photoUrl": "https://lh5.googleusercontent.com/-49FN6_YzdHQ/AAAAAAAAAAI/AAAAAAAAAC4/fOYzKlKwLu4/s64/photo.jpg",
      "userId": "04346782864121885769"
     },
     "user_tz": -180
    },
    "id": "svCYq4lfQcDz"
   },
   "outputs": [],
   "source": [
    "train, test, numerical, categorical = load_data('../data/intermediate')"
   ]
  },
  {
   "cell_type": "code",
   "execution_count": 6,
   "metadata": {
    "executionInfo": {
     "elapsed": 7131,
     "status": "ok",
     "timestamp": 1602704172565,
     "user": {
      "displayName": "Роман Новиков",
      "photoUrl": "https://lh5.googleusercontent.com/-49FN6_YzdHQ/AAAAAAAAAAI/AAAAAAAAAC4/fOYzKlKwLu4/s64/photo.jpg",
      "userId": "04346782864121885769"
     },
     "user_tz": -180
    },
    "id": "_7zePdKgeNVZ"
   },
   "outputs": [],
   "source": [
    "numerical, categorical = numerical.tolist(), categorical.tolist()"
   ]
  },
  {
   "cell_type": "markdown",
   "metadata": {
    "id": "LW0grESulR4H"
   },
   "source": [
    "# Добавление новых признаков"
   ]
  },
  {
   "cell_type": "markdown",
   "metadata": {
    "id": "UgrqwBSolnij"
   },
   "source": [
    "## Признаки, связанные с пропусками"
   ]
  },
  {
   "cell_type": "code",
   "execution_count": 7,
   "metadata": {
    "colab": {
     "base_uri": "https://localhost:8080/",
     "height": 85
    },
    "executionInfo": {
     "elapsed": 1195,
     "status": "ok",
     "timestamp": 1602704177017,
     "user": {
      "displayName": "Роман Новиков",
      "photoUrl": "https://lh5.googleusercontent.com/-49FN6_YzdHQ/AAAAAAAAAAI/AAAAAAAAAC4/fOYzKlKwLu4/s64/photo.jpg",
      "userId": "04346782864121885769"
     },
     "user_tz": -180
    },
    "id": "Hya5KHJyvLfI",
    "outputId": "6d8a301d-4d10-442c-93de-e45535112a32"
   },
   "outputs": [
    {
     "data": {
      "text/plain": [
       "Float64Index([0.038675,   0.1004, 0.100425,   0.1049, 0.110875,    0.111,\n",
       "                0.1454,   0.2777, 0.448425, 0.523375, 0.569425, 0.580375,\n",
       "               0.74525],\n",
       "             dtype='float64')"
      ]
     },
     "execution_count": 7,
     "metadata": {},
     "output_type": "execute_result"
    }
   ],
   "source": [
    "nans = train.isna().mean()\n",
    "nans.value_counts().sort_index().index[6:]"
   ]
  },
  {
   "cell_type": "code",
   "execution_count": 8,
   "metadata": {
    "executionInfo": {
     "elapsed": 1202,
     "status": "ok",
     "timestamp": 1602704180506,
     "user": {
      "displayName": "Роман Новиков",
      "photoUrl": "https://lh5.googleusercontent.com/-49FN6_YzdHQ/AAAAAAAAAAI/AAAAAAAAAC4/fOYzKlKwLu4/s64/photo.jpg",
      "userId": "04346782864121885769"
     },
     "user_tz": -180
    },
    "id": "Ut48M92RNs6N"
   },
   "outputs": [],
   "source": [
    "# на каждую такую группу признаков, имеющих\n",
    "# одинаковое количество пропусков, создадим \n",
    "# признак-индикатор пропусков\n",
    "nans_group = nans.value_counts().sort_index().index[6:]\n",
    "for group in nans_group:\n",
    "    feature = nans[nans == group].index[0]\n",
    "    train[f'{group}_missing_indicator'] = train[feature].isna().map({True: 1, False: 0})\n",
    "    test[f'{group}_missing_indicator'] = test[feature].isna().map({True: 1, False: 0})"
   ]
  },
  {
   "cell_type": "code",
   "execution_count": 9,
   "metadata": {
    "executionInfo": {
     "elapsed": 3901,
     "status": "ok",
     "timestamp": 1602704184895,
     "user": {
      "displayName": "Роман Новиков",
      "photoUrl": "https://lh5.googleusercontent.com/-49FN6_YzdHQ/AAAAAAAAAAI/AAAAAAAAAC4/fOYzKlKwLu4/s64/photo.jpg",
      "userId": "04346782864121885769"
     },
     "user_tz": -180
    },
    "id": "vmxULt2Yi7AW"
   },
   "outputs": [],
   "source": [
    "# добавим в качестве нового признака\n",
    "# число пропусков в строке\n",
    "train['nans'] = count_row_nans(train)\n",
    "test['nans'] = count_row_nans(test)"
   ]
  },
  {
   "cell_type": "markdown",
   "metadata": {
    "id": "DmPiOQX4ltst"
   },
   "source": [
    "## Признаки, связанные со взаимодействием числовых признаков"
   ]
  },
  {
   "cell_type": "code",
   "execution_count": 10,
   "metadata": {
    "executionInfo": {
     "elapsed": 1858,
     "status": "ok",
     "timestamp": 1602704184899,
     "user": {
      "displayName": "Роман Новиков",
      "photoUrl": "https://lh5.googleusercontent.com/-49FN6_YzdHQ/AAAAAAAAAAI/AAAAAAAAAC4/fOYzKlKwLu4/s64/photo.jpg",
      "userId": "04346782864121885769"
     },
     "user_tz": -180
    },
    "id": "g1OCEoGCtjaQ"
   },
   "outputs": [],
   "source": [
    "diff_pairs = (['Var133', 'Var134'], ['Var133', 'Var163'], \n",
    "              ['Var133', 'Var38'], ['Var133', 'Var76'], \n",
    "              ['Var134', 'Var163'], ['Var134', 'Var38'], \n",
    "              ['Var134', 'Var76'], ['Var163', 'Var38'],\n",
    "              ['Var163', 'Var76'], ['Var38', 'Var76'],\n",
    "              ['Var38', 'Var94'])\n",
    "\n",
    "ratio_pairs = (['Var73', 'Var126'], ['Var153', 'Var133'],\n",
    "               ['Var153', 'Var134'], ['Var153', 'Var38'], \n",
    "               ['Var153', 'Var76'])"
   ]
  },
  {
   "cell_type": "code",
   "execution_count": 11,
   "metadata": {
    "executionInfo": {
     "elapsed": 965,
     "status": "ok",
     "timestamp": 1602704184902,
     "user": {
      "displayName": "Роман Новиков",
      "photoUrl": "https://lh5.googleusercontent.com/-49FN6_YzdHQ/AAAAAAAAAAI/AAAAAAAAAC4/fOYzKlKwLu4/s64/photo.jpg",
      "userId": "04346782864121885769"
     },
     "user_tz": -180
    },
    "id": "7txoQLDZCeXT"
   },
   "outputs": [],
   "source": [
    "for pair in diff_pairs:\n",
    "    first, second = pair\n",
    "    train[first + '_' + second + '_diff'] = train[first] - train[second]\n",
    "    test[first + '_' + second + '_diff'] = test[first] - test[second]\n",
    "\n",
    "for pair in ratio_pairs:\n",
    "    numerator, denominator = pair\n",
    "    train[numerator + '_' + denominator + '_ratio'] = (train[numerator] + 1) / (train[denominator] + 1)\n",
    "    test[numerator + '_' + denominator + '_ratio'] = (test[numerator] + 1) / (test[denominator] + 1)"
   ]
  },
  {
   "cell_type": "code",
   "execution_count": 12,
   "metadata": {
    "colab": {
     "base_uri": "https://localhost:8080/",
     "height": 408
    },
    "executionInfo": {
     "elapsed": 1438,
     "status": "ok",
     "timestamp": 1602704186420,
     "user": {
      "displayName": "Роман Новиков",
      "photoUrl": "https://lh5.googleusercontent.com/-49FN6_YzdHQ/AAAAAAAAAAI/AAAAAAAAAC4/fOYzKlKwLu4/s64/photo.jpg",
      "userId": "04346782864121885769"
     },
     "user_tz": -180
    },
    "id": "MQM6776Mq0yD",
    "outputId": "1e2fed71-c5f9-4f99-8518-65d52dbed2cd"
   },
   "outputs": [
    {
     "data": {
      "text/plain": [
       "Index(['Var192', 'Var193', 'Var194', 'Var195', 'Var196', 'Var197', 'Var199',\n",
       "       'Var201', 'Var202', 'Var203', 'Var204', 'Var205', 'Var206', 'Var207',\n",
       "       'Var208', 'Var210', 'Var211', 'Var212', 'Var216', 'Var218', 'Var219',\n",
       "       'Var221', 'Var223', 'Var225', 'Var226', 'Var227', 'Var228', 'Var229',\n",
       "       'Var109', 'Var112', 'Var113', 'Var119', 'Var123', 'Var125', 'Var126',\n",
       "       'Var13', 'Var132', 'Var133', 'Var134', 'Var140', 'Var143', 'Var144',\n",
       "       'Var149', 'Var153', 'Var160', 'Var163', 'Var173', 'Var181', 'Var189',\n",
       "       'Var22', 'Var24', 'Var25', 'Var28', 'Var35', 'Var38', 'Var44', 'Var57',\n",
       "       'Var6', 'Var65', 'Var7', 'Var72', 'Var73', 'Var74', 'Var76', 'Var81',\n",
       "       'Var83', 'Var85', 'Var94', 'target', '0.038675_missing_indicator',\n",
       "       '0.1004_missing_indicator', '0.100425_missing_indicator',\n",
       "       '0.1049_missing_indicator', '0.110875_missing_indicator',\n",
       "       '0.111_missing_indicator', '0.1454_missing_indicator',\n",
       "       '0.2777_missing_indicator', '0.448425_missing_indicator',\n",
       "       '0.523375_missing_indicator', '0.569425_missing_indicator',\n",
       "       '0.580375_missing_indicator', '0.74525_missing_indicator', 'nans',\n",
       "       'Var133_Var134_diff', 'Var133_Var163_diff', 'Var133_Var38_diff',\n",
       "       'Var133_Var76_diff', 'Var134_Var163_diff', 'Var134_Var38_diff',\n",
       "       'Var134_Var76_diff', 'Var163_Var38_diff', 'Var163_Var76_diff',\n",
       "       'Var38_Var76_diff', 'Var38_Var94_diff', 'Var73_Var126_ratio',\n",
       "       'Var153_Var133_ratio', 'Var153_Var134_ratio', 'Var153_Var38_ratio',\n",
       "       'Var153_Var76_ratio'],\n",
       "      dtype='object')"
      ]
     },
     "execution_count": 12,
     "metadata": {},
     "output_type": "execute_result"
    }
   ],
   "source": [
    "train.columns"
   ]
  },
  {
   "cell_type": "code",
   "execution_count": 13,
   "metadata": {
    "colab": {
     "base_uri": "https://localhost:8080/",
     "height": 34
    },
    "executionInfo": {
     "elapsed": 1072,
     "status": "ok",
     "timestamp": 1602704193143,
     "user": {
      "displayName": "Роман Новиков",
      "photoUrl": "https://lh5.googleusercontent.com/-49FN6_YzdHQ/AAAAAAAAAAI/AAAAAAAAAC4/fOYzKlKwLu4/s64/photo.jpg",
      "userId": "04346782864121885769"
     },
     "user_tz": -180
    },
    "id": "K9bBkXyqKBYa",
    "outputId": "bfd2f535-02db-40cc-917f-379b308f2c90"
   },
   "outputs": [
    {
     "name": "stdout",
     "output_type": "stream",
     "text": [
      "After correction: numerical - 70\n"
     ]
    }
   ],
   "source": [
    "new_features = ['0.038675_missing_indicator', '0.1004_missing_indicator', \n",
    "                '0.100425_missing_indicator', '0.1049_missing_indicator', \n",
    "                '0.110875_missing_indicator', '0.111_missing_indicator', \n",
    "                '0.1454_missing_indicator', '0.2777_missing_indicator', \n",
    "                '0.448425_missing_indicator', '0.523375_missing_indicator', \n",
    "                '0.569425_missing_indicator', '0.580375_missing_indicator', \n",
    "                '0.74525_missing_indicator', 'nans',\n",
    "                'Var133_Var134_diff', 'Var133_Var163_diff', \n",
    "                'Var133_Var38_diff', 'Var133_Var76_diff', \n",
    "                'Var134_Var163_diff', 'Var134_Var38_diff', \n",
    "                'Var134_Var76_diff', 'Var163_Var38_diff', \n",
    "                'Var163_Var76_diff', 'Var38_Var76_diff', \n",
    "                'Var38_Var94_diff', 'Var73_Var126_ratio',\n",
    "                'Var153_Var133_ratio', 'Var153_Var134_ratio', \n",
    "                'Var153_Var38_ratio', 'Var153_Var76_ratio']\n",
    "\n",
    "numerical = np.union1d(numerical, new_features).tolist()\n",
    "\n",
    "# выводим данные об изменении длины списка числовых переменных\n",
    "print('After correction: numerical -', len(numerical))"
   ]
  },
  {
   "cell_type": "markdown",
   "metadata": {
    "id": "oSrw78B-2pxJ"
   },
   "source": [
    "## Отбор признаков с помощью feature_importance"
   ]
  },
  {
   "cell_type": "code",
   "execution_count": 14,
   "metadata": {
    "executionInfo": {
     "elapsed": 1092,
     "status": "ok",
     "timestamp": 1602704198620,
     "user": {
      "displayName": "Роман Новиков",
      "photoUrl": "https://lh5.googleusercontent.com/-49FN6_YzdHQ/AAAAAAAAAAI/AAAAAAAAAC4/fOYzKlKwLu4/s64/photo.jpg",
      "userId": "04346782864121885769"
     },
     "user_tz": -180
    },
    "id": "CdLZ4VeP2pxX"
   },
   "outputs": [],
   "source": [
    "# зададим определенный порядок переменных\n",
    "train = train[categorical + numerical + ['target']]\n",
    "test = test[categorical + numerical]"
   ]
  },
  {
   "cell_type": "code",
   "execution_count": 15,
   "metadata": {
    "executionInfo": {
     "elapsed": 12750,
     "status": "ok",
     "timestamp": 1602704212365,
     "user": {
      "displayName": "Роман Новиков",
      "photoUrl": "https://lh5.googleusercontent.com/-49FN6_YzdHQ/AAAAAAAAAAI/AAAAAAAAAC4/fOYzKlKwLu4/s64/photo.jpg",
      "userId": "04346782864121885769"
     },
     "user_tz": -180
    },
    "id": "G8enEhG-2pxm"
   },
   "outputs": [],
   "source": [
    "# разделим матрицу признаков и целевую переменную из данных обучения\n",
    "X, y = (train.drop(['target'], axis=1), \n",
    "        train.target)\n",
    "\n",
    "X.fillna(-999999999, inplace=True)\n",
    "\n",
    "# отложим часть выборки для финальной оценки модели\n",
    "X_train, X_holdout, y_train, y_holdout = train_test_split(X, y, \n",
    "                                                          test_size=0.33, \n",
    "                                                          stratify=y,\n",
    "                                                          random_state=SEED)\n",
    "\n",
    "model = CatBoostClassifier(learning_rate=0.1, n_estimators=100, random_state=SEED)\n",
    "model.fit(X_train, y_train, cat_features=categorical, verbose=False);"
   ]
  },
  {
   "cell_type": "code",
   "execution_count": 16,
   "metadata": {
    "colab": {
     "base_uri": "https://localhost:8080/",
     "height": 642
    },
    "executionInfo": {
     "elapsed": 16822,
     "status": "ok",
     "timestamp": 1602704216860,
     "user": {
      "displayName": "Роман Новиков",
      "photoUrl": "https://lh5.googleusercontent.com/-49FN6_YzdHQ/AAAAAAAAAAI/AAAAAAAAAC4/fOYzKlKwLu4/s64/photo.jpg",
      "userId": "04346782864121885769"
     },
     "user_tz": -180
    },
    "id": "8gYPysPbe5hu",
    "outputId": "9dfd33eb-ef28-42c4-ac7b-93609a286e2f"
   },
   "outputs": [
    {
     "data": {
      "image/png": "[encoded data removed]",
      "text/plain": [
       "<Figure size 1800x1080 with 1 Axes>"
      ]
     },
     "metadata": {},
     "output_type": "display_data"
    }
   ],
   "source": [
    "plot_barplot(x=X_train.columns, y=model.feature_importances_, figsize=(25, 15))"
   ]
  },
  {
   "cell_type": "code",
   "execution_count": 17,
   "metadata": {
    "colab": {
     "base_uri": "https://localhost:8080/",
     "height": 340
    },
    "executionInfo": {
     "elapsed": 15355,
     "status": "ok",
     "timestamp": 1602704216861,
     "user": {
      "displayName": "Роман Новиков",
      "photoUrl": "https://lh5.googleusercontent.com/-49FN6_YzdHQ/AAAAAAAAAAI/AAAAAAAAAC4/fOYzKlKwLu4/s64/photo.jpg",
      "userId": "04346782864121885769"
     },
     "user_tz": -180
    },
    "id": "g5VLt9r5fL8O",
    "outputId": "d5108fd0-a7dd-4ecd-ac96-dd842db55f1b"
   },
   "outputs": [
    {
     "data": {
      "text/plain": [
       "Index(['Var192', 'Var193', 'Var194', 'Var195', 'Var196', 'Var197', 'Var199',\n",
       "       'Var201', 'Var202', 'Var203', 'Var204', 'Var205', 'Var206', 'Var207',\n",
       "       'Var208', 'Var210', 'Var211', 'Var212', 'Var216', 'Var218', 'Var219',\n",
       "       'Var221', 'Var223', 'Var225', 'Var226', 'Var227', 'Var228', 'Var229',\n",
       "       '0.1049_missing_indicator', '0.2777_missing_indicator',\n",
       "       '0.523375_missing_indicator', '0.569425_missing_indicator',\n",
       "       '0.74525_missing_indicator', 'Var109', 'Var112', 'Var113', 'Var119',\n",
       "       'Var123', 'Var125', 'Var126', 'Var13', 'Var132', 'Var133',\n",
       "       'Var133_Var134_diff', 'Var133_Var163_diff', 'Var133_Var38_diff',\n",
       "       'Var133_Var76_diff', 'Var134', 'Var134_Var163_diff',\n",
       "       'Var134_Var38_diff', 'Var134_Var76_diff', 'Var140', 'Var143', 'Var144',\n",
       "       'Var149', 'Var153', 'Var153_Var133_ratio', 'Var153_Var134_ratio',\n",
       "       'Var153_Var38_ratio', 'Var153_Var76_ratio', 'Var160', 'Var163',\n",
       "       'Var163_Var38_diff', 'Var163_Var76_diff', 'Var173', 'Var181', 'Var189',\n",
       "       'Var22', 'Var24', 'Var25', 'Var28', 'Var35', 'Var38',\n",
       "       'Var38_Var76_diff', 'Var38_Var94_diff', 'Var57', 'Var6', 'Var65',\n",
       "       'Var7', 'Var72', 'Var73', 'Var73_Var126_ratio', 'Var74', 'Var76',\n",
       "       'Var81', 'Var83', 'Var85', 'Var94', 'nans'],\n",
       "      dtype='object')"
      ]
     },
     "execution_count": 17,
     "metadata": {},
     "output_type": "execute_result"
    }
   ],
   "source": [
    "selected = X_train.columns[model.feature_importances_ != 0]\n",
    "selected"
   ]
  },
  {
   "cell_type": "code",
   "execution_count": 18,
   "metadata": {
    "colab": {
     "base_uri": "https://localhost:8080/",
     "height": 51
    },
    "executionInfo": {
     "elapsed": 9462,
     "status": "ok",
     "timestamp": 1602704216863,
     "user": {
      "displayName": "Роман Новиков",
      "photoUrl": "https://lh5.googleusercontent.com/-49FN6_YzdHQ/AAAAAAAAAAI/AAAAAAAAAC4/fOYzKlKwLu4/s64/photo.jpg",
      "userId": "04346782864121885769"
     },
     "user_tz": -180
    },
    "id": "WKe_LZGG2pya",
    "outputId": "c010f8c3-759d-461f-f689-396d80854d97"
   },
   "outputs": [
    {
     "name": "stdout",
     "output_type": "stream",
     "text": [
      "After correction: numerical - 61 , categorical: -  28 \n",
      "\n"
     ]
    }
   ],
   "source": [
    "# скорректируем имеющиеся списки числовых и категориальных признаков\n",
    "numerical, categorical = correct_features_lists(selected, numerical, categorical)"
   ]
  },
  {
   "cell_type": "code",
   "execution_count": 19,
   "metadata": {
    "executionInfo": {
     "elapsed": 7605,
     "status": "ok",
     "timestamp": 1602704216864,
     "user": {
      "displayName": "Роман Новиков",
      "photoUrl": "https://lh5.googleusercontent.com/-49FN6_YzdHQ/AAAAAAAAAAI/AAAAAAAAAC4/fOYzKlKwLu4/s64/photo.jpg",
      "userId": "04346782864121885769"
     },
     "user_tz": -180
    },
    "id": "4kxmlJ1U2pyg"
   },
   "outputs": [],
   "source": [
    "# зададим определенный порядок переменных\n",
    "train = train[categorical + numerical + ['target']]\n",
    "test = test[categorical + numerical]"
   ]
  },
  {
   "cell_type": "code",
   "execution_count": 20,
   "metadata": {
    "executionInfo": {
     "elapsed": 7348,
     "status": "ok",
     "timestamp": 1602704227530,
     "user": {
      "displayName": "Роман Новиков",
      "photoUrl": "https://lh5.googleusercontent.com/-49FN6_YzdHQ/AAAAAAAAAAI/AAAAAAAAAC4/fOYzKlKwLu4/s64/photo.jpg",
      "userId": "04346782864121885769"
     },
     "user_tz": -180
    },
    "id": "muSsQIf-0-CZ"
   },
   "outputs": [],
   "source": [
    "# сохраним обработанные данные, а также списки переменных\n",
    "train.to_csv('../data/processed/train.csv')\n",
    "test.to_csv('../data/processed/test.csv')\n",
    "np.save('../data/processed/numerical.npy', numerical)\n",
    "np.save('../data/processed/categorical.npy', categorical)"
   ]
  }
 ],
 "metadata": {
  "colab": {
   "collapsed_sections": [],
   "name": "4 ocp-feature-generation.ipynb",
   "provenance": [],
   "toc_visible": true
  },
  "kernelspec": {
   "display_name": "Python 3",
   "language": "python",
   "name": "python3"
  },
  "language_info": {
   "codemirror_mode": {
    "name": "ipython",
    "version": 3
   },
   "file_extension": ".py",
   "mimetype": "text/x-python",
   "name": "python",
   "nbconvert_exporter": "python",
   "pygments_lexer": "ipython3",
   "version": "3.8.5"
  }
 },
 "nbformat": 4,
 "nbformat_minor": 1
}